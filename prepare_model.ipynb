{
 "cells": [
  {
   "cell_type": "code",
   "execution_count": 14,
   "metadata": {},
   "outputs": [],
   "source": [
    "from transformers import pipeline\n",
    "from pprint import pprint"
   ]
  },
  {
   "cell_type": "code",
   "execution_count": 15,
   "metadata": {},
   "outputs": [],
   "source": [
    "# getting the model from huggingface.co\n",
    "classifier = pipeline(task=\"text-classification\", model=\"SamLowe/roberta-base-go_emotions\", top_k=None)"
   ]
  },
  {
   "cell_type": "code",
   "execution_count": 16,
   "metadata": {},
   "outputs": [
    {
     "name": "stdout",
     "output_type": "stream",
     "text": [
      "[{'label': 'disappointment', 'score': 0.46669498085975647},\n",
      " {'label': 'sadness', 'score': 0.3984951376914978},\n",
      " {'label': 'annoyance', 'score': 0.06806589663028717},\n",
      " {'label': 'neutral', 'score': 0.057030197232961655},\n",
      " {'label': 'disapproval', 'score': 0.044239286333322525},\n",
      " {'label': 'nervousness', 'score': 0.014850745908915997},\n",
      " {'label': 'realization', 'score': 0.014059898443520069},\n",
      " {'label': 'approval', 'score': 0.011267454363405704},\n",
      " {'label': 'joy', 'score': 0.006303394213318825},\n",
      " {'label': 'remorse', 'score': 0.006221492309123278},\n",
      " {'label': 'caring', 'score': 0.006029400508850813},\n",
      " {'label': 'embarrassment', 'score': 0.005265483167022467},\n",
      " {'label': 'anger', 'score': 0.004981426056474447},\n",
      " {'label': 'disgust', 'score': 0.004259029403328896},\n",
      " {'label': 'grief', 'score': 0.0040021371096372604},\n",
      " {'label': 'confusion', 'score': 0.003382916795089841},\n",
      " {'label': 'relief', 'score': 0.003140496090054512},\n",
      " {'label': 'desire', 'score': 0.002827469725161791},\n",
      " {'label': 'admiration', 'score': 0.002815793501213193},\n",
      " {'label': 'fear', 'score': 0.002707521663978696},\n",
      " {'label': 'optimism', 'score': 0.0026164900045841932},\n",
      " {'label': 'love', 'score': 0.0024883896112442017},\n",
      " {'label': 'excitement', 'score': 0.0024494787212461233},\n",
      " {'label': 'curiosity', 'score': 0.0023743605706840754},\n",
      " {'label': 'amusement', 'score': 0.001746696187183261},\n",
      " {'label': 'surprise', 'score': 0.001452984637580812},\n",
      " {'label': 'gratitude', 'score': 0.0006464764592237771},\n",
      " {'label': 'pride', 'score': 0.00055424973834306}]\n"
     ]
    }
   ],
   "source": [
    "# test the model\n",
    "sentences = [\"I am not having a great day\"]\n",
    "model_outputs = classifier(sentences)\n",
    "pprint(model_outputs[0])"
   ]
  },
  {
   "cell_type": "code",
   "execution_count": 3,
   "metadata": {},
   "outputs": [],
   "source": [
    "# save the model for later use\n",
    "classifier.save_pretrained(\"./models/pre_trained//roberta-base-go_emotions\")"
   ]
  },
  {
   "cell_type": "code",
   "execution_count": 10,
   "metadata": {},
   "outputs": [],
   "source": [
    "# load the model from the saved directory\n",
    "loaded_classifier = pipeline(task=\"text-classification\",\n",
    "                      model=\"./models/pre_trained/roberta-base-go_emotions\",\n",
    "                      top_k=None)"
   ]
  },
  {
   "cell_type": "code",
   "execution_count": 11,
   "metadata": {},
   "outputs": [
    {
     "name": "stdout",
     "output_type": "stream",
     "text": [
      "[{'label': 'disappointment', 'score': 0.46669498085975647}, {'label': 'sadness', 'score': 0.3984951376914978}, {'label': 'annoyance', 'score': 0.06806589663028717}, {'label': 'neutral', 'score': 0.057030197232961655}, {'label': 'disapproval', 'score': 0.044239286333322525}, {'label': 'nervousness', 'score': 0.014850745908915997}, {'label': 'realization', 'score': 0.014059898443520069}, {'label': 'approval', 'score': 0.011267454363405704}, {'label': 'joy', 'score': 0.006303394213318825}, {'label': 'remorse', 'score': 0.006221492309123278}, {'label': 'caring', 'score': 0.006029400508850813}, {'label': 'embarrassment', 'score': 0.005265483167022467}, {'label': 'anger', 'score': 0.004981426056474447}, {'label': 'disgust', 'score': 0.004259029403328896}, {'label': 'grief', 'score': 0.0040021371096372604}, {'label': 'confusion', 'score': 0.003382916795089841}, {'label': 'relief', 'score': 0.003140496090054512}, {'label': 'desire', 'score': 0.002827469725161791}, {'label': 'admiration', 'score': 0.002815793501213193}, {'label': 'fear', 'score': 0.002707521663978696}, {'label': 'optimism', 'score': 0.0026164900045841932}, {'label': 'love', 'score': 0.0024883896112442017}, {'label': 'excitement', 'score': 0.0024494787212461233}, {'label': 'curiosity', 'score': 0.0023743605706840754}, {'label': 'amusement', 'score': 0.001746696187183261}, {'label': 'surprise', 'score': 0.001452984637580812}, {'label': 'gratitude', 'score': 0.0006464764592237771}, {'label': 'pride', 'score': 0.00055424973834306}]\n"
     ]
    }
   ],
   "source": [
    "model_outputs = loaded_classifier(sentences)\n",
    "print(model_outputs[0])"
   ]
  },
  {
   "cell_type": "code",
   "execution_count": null,
   "metadata": {},
   "outputs": [],
   "source": []
  },
  {
   "cell_type": "code",
   "execution_count": 18,
   "metadata": {},
   "outputs": [
    {
     "name": "stderr",
     "output_type": "stream",
     "text": [
      "config.json: 100%|██████████| 1.49k/1.49k [00:00<00:00, 249kB/s]\n",
      "model.safetensors: 100%|██████████| 242M/242M [00:13<00:00, 17.8MB/s] \n",
      "generation_config.json: 100%|██████████| 112/112 [00:00<00:00, 112kB/s]\n",
      "tokenizer_config.json: 100%|██████████| 2.32k/2.32k [00:00<?, ?B/s]\n",
      "spiece.model: 100%|██████████| 792k/792k [00:00<00:00, 20.0MB/s]\n",
      "tokenizer.json: 100%|██████████| 2.42M/2.42M [00:01<00:00, 1.87MB/s]\n",
      "special_tokens_map.json: 100%|██████████| 2.20k/2.20k [00:00<00:00, 2.20MB/s]\n"
     ]
    }
   ],
   "source": [
    "summarizer = pipeline(\"summarization\", model=\"Falconsai/text_summarization\")\n",
    "# save the model for later use\n",
    "summarizer.save_pretrained(\"./models/pre_trained/t5_small_text_summarization\")"
   ]
  },
  {
   "cell_type": "code",
   "execution_count": 19,
   "metadata": {},
   "outputs": [],
   "source": [
    "loaded_summarizer = pipeline(task=\"summarization\", model=\"./models/pre_trained/t5_small_text_summarization\")"
   ]
  },
  {
   "cell_type": "code",
   "execution_count": 22,
   "metadata": {},
   "outputs": [],
   "source": [
    "ARTICLE = \"\"\" \n",
    "Luton's Premier League match at Bournemouth has been abandoned after their captain Tom Lockyer collapsed on the pitch.\n",
    "Both sets of players were taken off midway through the second half as Lockyer received medical treatment.\n",
    "After several minutes, he was taken off on a stretcher, applauded by all four sides of the ground.\n",
    "Reports from the ground later said the 29-year-old defender was \"alert and responsive\".\n",
    "Lockyer collapsed during the play-off final win against Coventry in May before being taken to hospital.\n",
    "He subsequently had heart surgery and was given the all-clear to return to playing in June.\n",
    "After confirmation the game was abandoned, both the Luton and Bournemouth players came back out on to the pitch to applaud the supporters.\n",
    "The Premier League said in a statement: \"The match between AFC Bournemouth and Luton Town FC has been abandoned due to a player medical incident.\n",
    "\"Our thoughts are with Tom Lockyer and all players involved in today's match.\"\n",
    "\"\"\"\n",
    "summary = summarizer(ARTICLE, max_length=230, min_length=30, do_sample=False)[0]['summary_text']"
   ]
  },
  {
   "cell_type": "code",
   "execution_count": 26,
   "metadata": {},
   "outputs": [
    {
     "name": "stdout",
     "output_type": "stream",
     "text": [
      "(\"Tom Lockyer collapsed on the pitch during Luton's Premier League match at \"\n",
      " 'Bournemouth . Both sets of players were taken off midway through the second '\n",
      " 'half . Reports from the ground later said Lockyer was \"alert and responsive\"')\n"
     ]
    }
   ],
   "source": [
    "pprint(summary)"
   ]
  }
 ],
 "metadata": {
  "kernelspec": {
   "display_name": "venv",
   "language": "python",
   "name": "python3"
  },
  "language_info": {
   "codemirror_mode": {
    "name": "ipython",
    "version": 3
   },
   "file_extension": ".py",
   "mimetype": "text/x-python",
   "name": "python",
   "nbconvert_exporter": "python",
   "pygments_lexer": "ipython3",
   "version": "3.11.7"
  }
 },
 "nbformat": 4,
 "nbformat_minor": 2
}
