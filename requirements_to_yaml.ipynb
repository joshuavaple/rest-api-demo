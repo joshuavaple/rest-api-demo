{
 "cells": [
  {
   "cell_type": "code",
   "execution_count": 19,
   "metadata": {},
   "outputs": [],
   "source": [
    "import yaml\n",
    "\n",
    "def convert_requirements_to_conda_yaml(requirements_file: str = 'requirements.txt', \n",
    "                                       conda_yaml_file: str = 'requirements.yaml',\n",
    "                                       python_version: str = '3.11',\n",
    "                                       env_name: str = 'my_environment_name'):\n",
    "    conda_yaml = {\n",
    "        'name': env_name,  # Specify the name of your environment\n",
    "        'dependencies': [\n",
    "            f'python={python_version}',\n",
    "            'pip'\n",
    "        ]\n",
    "    }\n",
    "\n",
    "    pip_dependencies = []\n",
    "\n",
    "    with open(requirements_file, 'r') as file:\n",
    "        for line in file:\n",
    "            line = line.strip()\n",
    "            if line and not line.startswith('#'):\n",
    "                pip_dependencies.append(line)\n",
    "\n",
    "    conda_yaml['dependencies'].append({'pip': pip_dependencies})\n",
    "\n",
    "    with open(conda_yaml_file, 'w') as conda_file:\n",
    "        yaml.dump(conda_yaml, conda_file, default_flow_style=False)\n",
    "\n",
    "\n",
    "\n",
    "# Replace 'requirements.txt' with the path to your requirements.txt file\n",
    "convert_requirements_to_conda_yaml(requirements_file='requirements.txt',\n",
    "                                   conda_yaml_file='requirements.yaml',\n",
    "                                   python_version='3.11',\n",
    "                                   env_name='rest-api-demo-env')"
   ]
  },
  {
   "cell_type": "code",
   "execution_count": 18,
   "metadata": {},
   "outputs": [],
   "source": []
  }
 ],
 "metadata": {
  "kernelspec": {
   "display_name": "venv",
   "language": "python",
   "name": "python3"
  },
  "language_info": {
   "codemirror_mode": {
    "name": "ipython",
    "version": 3
   },
   "file_extension": ".py",
   "mimetype": "text/x-python",
   "name": "python",
   "nbconvert_exporter": "python",
   "pygments_lexer": "ipython3",
   "version": "3.11.7"
  }
 },
 "nbformat": 4,
 "nbformat_minor": 2
}
