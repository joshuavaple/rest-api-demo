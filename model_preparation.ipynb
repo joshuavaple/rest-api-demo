{
 "cells": [
  {
   "cell_type": "code",
   "execution_count": 2,
   "metadata": {},
   "outputs": [
    {
     "name": "stderr",
     "output_type": "stream",
     "text": [
      "/anaconda/envs/rest-api-demo/lib/python3.11/site-packages/tqdm/auto.py:21: TqdmWarning: IProgress not found. Please update jupyter and ipywidgets. See https://ipywidgets.readthedocs.io/en/stable/user_install.html\n",
      "  from .autonotebook import tqdm as notebook_tqdm\n"
     ]
    }
   ],
   "source": [
    "from transformers import pipeline\n",
    "from pprint import pprint\n",
    "import mlflow\n"
   ]
  },
  {
   "cell_type": "code",
   "execution_count": 3,
   "metadata": {},
   "outputs": [],
   "source": [
    "classifier_path = \"./models/pretrained/roberta-base-go_emotions\"\n",
    "summarizer_path = './models/pretrained/t5_small_text_summarization'"
   ]
  },
  {
   "cell_type": "markdown",
   "metadata": {},
   "source": [
    "### 1. Download and save the huggingface models"
   ]
  },
  {
   "cell_type": "code",
   "execution_count": 4,
   "metadata": {},
   "outputs": [],
   "source": [
    "# classifier = pipeline(task=\"text-classification\", model=\"SamLowe/roberta-base-go_emotions\", top_k=None)\n",
    "# classifier.save_pretrained('./models/pretrained/roberta-base-go_emotions')"
   ]
  },
  {
   "cell_type": "code",
   "execution_count": 5,
   "metadata": {},
   "outputs": [],
   "source": [
    "loaded_classifier = pipeline(task=\"text-classification\", \n",
    "                             model=classifier_path, \n",
    "                             top_k=None)"
   ]
  },
  {
   "cell_type": "code",
   "execution_count": 6,
   "metadata": {},
   "outputs": [
    {
     "data": {
      "text/plain": [
       "[[{'label': 'love', 'score': 0.950127363204956},\n",
       "  {'label': 'admiration', 'score': 0.03602135181427002},\n",
       "  {'label': 'approval', 'score': 0.016779204830527306},\n",
       "  {'label': 'joy', 'score': 0.01269887387752533},\n",
       "  {'label': 'neutral', 'score': 0.00947537925094366},\n",
       "  {'label': 'gratitude', 'score': 0.007057229056954384},\n",
       "  {'label': 'optimism', 'score': 0.0052270712330937386},\n",
       "  {'label': 'annoyance', 'score': 0.004698918666690588},\n",
       "  {'label': 'desire', 'score': 0.004633420147001743},\n",
       "  {'label': 'excitement', 'score': 0.0045125894248485565},\n",
       "  {'label': 'realization', 'score': 0.004273843020200729},\n",
       "  {'label': 'disapproval', 'score': 0.004228235222399235},\n",
       "  {'label': 'sadness', 'score': 0.004081507213413715},\n",
       "  {'label': 'anger', 'score': 0.004016295075416565},\n",
       "  {'label': 'disappointment', 'score': 0.003941954579204321},\n",
       "  {'label': 'amusement', 'score': 0.0030699302442371845},\n",
       "  {'label': 'caring', 'score': 0.002992184367030859},\n",
       "  {'label': 'confusion', 'score': 0.0029068314470350742},\n",
       "  {'label': 'curiosity', 'score': 0.0020169205963611603},\n",
       "  {'label': 'disgust', 'score': 0.0019638733938336372},\n",
       "  {'label': 'surprise', 'score': 0.0019085147650912404},\n",
       "  {'label': 'remorse', 'score': 0.0013246710877865553},\n",
       "  {'label': 'fear', 'score': 0.0008837335044518113},\n",
       "  {'label': 'nervousness', 'score': 0.0005735841114073992},\n",
       "  {'label': 'embarrassment', 'score': 0.000534147780854255},\n",
       "  {'label': 'pride', 'score': 0.0004000756307505071},\n",
       "  {'label': 'relief', 'score': 0.000377021700842306},\n",
       "  {'label': 'grief', 'score': 0.00037372365477494895}],\n",
       " [{'label': 'anger', 'score': 0.7215883731842041},\n",
       "  {'label': 'annoyance', 'score': 0.22072526812553406},\n",
       "  {'label': 'disapproval', 'score': 0.13502895832061768},\n",
       "  {'label': 'disgust', 'score': 0.04169568419456482},\n",
       "  {'label': 'neutral', 'score': 0.0310809463262558},\n",
       "  {'label': 'disappointment', 'score': 0.016404401510953903},\n",
       "  {'label': 'sadness', 'score': 0.011488772928714752},\n",
       "  {'label': 'confusion', 'score': 0.006989579182118177},\n",
       "  {'label': 'approval', 'score': 0.006843592971563339},\n",
       "  {'label': 'curiosity', 'score': 0.005377904046326876},\n",
       "  {'label': 'love', 'score': 0.004509398713707924},\n",
       "  {'label': 'admiration', 'score': 0.004177414812147617},\n",
       "  {'label': 'realization', 'score': 0.0037148213014006615},\n",
       "  {'label': 'embarrassment', 'score': 0.003480037674307823},\n",
       "  {'label': 'caring', 'score': 0.0033613224513828754},\n",
       "  {'label': 'gratitude', 'score': 0.0032654248643666506},\n",
       "  {'label': 'optimism', 'score': 0.002608048962429166},\n",
       "  {'label': 'fear', 'score': 0.0024769515730440617},\n",
       "  {'label': 'amusement', 'score': 0.0021226531825959682},\n",
       "  {'label': 'joy', 'score': 0.001997349550947547},\n",
       "  {'label': 'desire', 'score': 0.0018451341893523932},\n",
       "  {'label': 'excitement', 'score': 0.0016952210571616888},\n",
       "  {'label': 'remorse', 'score': 0.0016090277349576354},\n",
       "  {'label': 'surprise', 'score': 0.0016077759210020304},\n",
       "  {'label': 'grief', 'score': 0.0008257247391156852},\n",
       "  {'label': 'nervousness', 'score': 0.0006257070344872773},\n",
       "  {'label': 'pride', 'score': 0.00044736082782037556},\n",
       "  {'label': 'relief', 'score': 0.0003019468567799777}]]"
      ]
     },
     "execution_count": 6,
     "metadata": {},
     "output_type": "execute_result"
    }
   ],
   "source": [
    "results = loaded_classifier.predict(['I love football', 'I hate hot weather'])\n",
    "results"
   ]
  },
  {
   "cell_type": "code",
   "execution_count": 7,
   "metadata": {},
   "outputs": [],
   "source": [
    "# summarizer = pipeline(\"summarization\", model=\"Falconsai/text_summarization\")\n",
    "# summarizer.save_pretrained('./models/pretrained/t5_small_text_summarization')"
   ]
  },
  {
   "cell_type": "code",
   "execution_count": 8,
   "metadata": {},
   "outputs": [],
   "source": [
    "loaded_summarizer = pipeline(\"summarization\", \n",
    "                             model=summarizer_path)"
   ]
  },
  {
   "cell_type": "code",
   "execution_count": 10,
   "metadata": {},
   "outputs": [],
   "source": [
    "ARTICLE = \"\"\" \n",
    "Pro-democracy media tycoon Jimmy Lai is facing a Hong Kong court in a long-awaited trial over charges that he \"colluded with foreign forces\".\n",
    "Mr Lai, 76, denies the charges. Jailed since December 2020, he faces life in prison if he is found guilty.\n",
    "He was arrested under the National Security Law, which China has been accused of wielding to crush dissent.\n",
    "His case has caused international uproar and is widely seen as a test of Hong Kong's judicial independence.\n",
    "Mr Lai, who appeared in court on Monday flanked by prison guards, is one of more than 250 activists, lawmakers and protesters who have been detained under National Security Law (NSL) and sedition charges since 2020. The trial, which has been delayed for a year, is expected to last for about 80 days.\n",
    "Beijing, which introduced the NSL in 2020 in response to massive pro-democracy protests, insists that the law is necessary to quell unrest. It considers Mr Lai a traitor who sought to undermine China's national security. But critics say Mr Lai's case is yet another example of Beijing's tightening grip on Hong Kong.\n",
    "\"\"\"\n",
    "\n",
    "summary = loaded_summarizer(ARTICLE, max_length=230, min_length=30, do_sample=False)"
   ]
  },
  {
   "cell_type": "code",
   "execution_count": 11,
   "metadata": {},
   "outputs": [
    {
     "data": {
      "text/plain": [
       "[{'summary_text': \"Jimmy Lai, 76, faces life in prison if found guilty . He was arrested under the National Security Law . His case has caused international uproar and is widely seen as a test of Hong Kong's independence .\"}]"
      ]
     },
     "execution_count": 11,
     "metadata": {},
     "output_type": "execute_result"
    }
   ],
   "source": [
    "summary"
   ]
  },
  {
   "cell_type": "code",
   "execution_count": null,
   "metadata": {},
   "outputs": [],
   "source": []
  },
  {
   "cell_type": "markdown",
   "metadata": {},
   "source": [
    "### 2. Register the models to Azure ML's MLFlow server"
   ]
  },
  {
   "cell_type": "code",
   "execution_count": null,
   "metadata": {},
   "outputs": [],
   "source": [
    "# import mlflow"
   ]
  },
  {
   "cell_type": "code",
   "execution_count": null,
   "metadata": {},
   "outputs": [
    {
     "name": "stderr",
     "output_type": "stream",
     "text": [
      "2023/12/18 08:16:48 INFO mlflow.tracking.fluent: Experiment with name 'register_pretained_transformer_models' does not exist. Creating a new experiment.\n"
     ]
    },
    {
     "data": {
      "text/plain": [
       "<Experiment: artifact_location='', creation_time=1702887409034, experiment_id='55795ceb-a274-41f1-a25f-dac4ceb8567f', last_update_time=None, lifecycle_stage='active', name='register_pretained_transformer_models', tags={}>"
      ]
     },
     "execution_count": 13,
     "metadata": {},
     "output_type": "execute_result"
    }
   ],
   "source": [
    "# experiment_name = 'register_pretained_transformer_models'\n",
    "# mlflow.set_experiment(experiment_name)"
   ]
  },
  {
   "cell_type": "code",
   "execution_count": null,
   "metadata": {},
   "outputs": [
    {
     "name": "stdout",
     "output_type": "stream",
     "text": [
      "started run name: eager_dinner_b7sbs87v\n",
      "started run id: 371d5d4d-98bd-4522-8e1a-9d81bae83a8d\n"
     ]
    },
    {
     "name": "stderr",
     "output_type": "stream",
     "text": [
      "/tmp/ipykernel_40179/735897364.py:6: FutureWarning: The 'transformers' MLflow Models integration is known to be compatible with the following package version ranges: ``4.25.1`` -  ``4.35.2``. MLflow Models integrations with transformers may not succeed when used with package versions outside of this range.\n",
      "  mlflow.transformers.log_model(transformers_model=loaded_classifier,\n",
      "/anaconda/envs/rest-api-demo/lib/python3.11/site-packages/mlflow/models/model.py:619: FutureWarning: The 'transformers' MLflow Models integration is known to be compatible with the following package version ranges: ``4.25.1`` -  ``4.35.2``. MLflow Models integrations with transformers may not succeed when used with package versions outside of this range.\n",
      "  flavor.save_model(path=local_path, mlflow_model=mlflow_model, **kwargs)\n",
      "2023/12/18 08:36:42 WARNING mlflow.transformers: The model card could not be retrieved from the hub due to [Errno 21] Is a directory: 'models/pretrained/roberta-base-go_emotions'\n",
      "/anaconda/envs/rest-api-demo/lib/python3.11/site-packages/_distutils_hack/__init__.py:18: UserWarning: Distutils was imported before Setuptools, but importing Setuptools also replaces the `distutils` module in `sys.modules`. This may lead to undesirable behaviors or errors. To avoid these issues, avoid using distutils directly, ensure that setuptools is installed in the traditional way (e.g. not an editable install), and/or make sure that setuptools is always imported before distutils.\n",
      "  warnings.warn(\n",
      "/anaconda/envs/rest-api-demo/lib/python3.11/site-packages/_distutils_hack/__init__.py:33: UserWarning: Setuptools is replacing distutils.\n",
      "  warnings.warn(\"Setuptools is replacing distutils.\")\n",
      "Successfully registered model 'roberta-base-go_emotions'.\n",
      "2023/12/18 08:37:02 INFO mlflow.store.model_registry.abstract_store: Waiting up to 300 seconds for model version to finish creation. Model name: roberta-base-go_emotions, version 1\n",
      "Created version '1' of model 'roberta-base-go_emotions'.\n",
      "/tmp/ipykernel_40179/735897364.py:9: FutureWarning: The 'transformers' MLflow Models integration is known to be compatible with the following package version ranges: ``4.25.1`` -  ``4.35.2``. MLflow Models integrations with transformers may not succeed when used with package versions outside of this range.\n",
      "  mlflow.transformers.log_model(transformers_model=loaded_summarizer,\n",
      "2023/12/18 08:37:03 WARNING mlflow.transformers: The model card could not be retrieved from the hub due to [Errno 21] Is a directory: 'models/pretrained/t5_small_text_summarization'\n",
      "/anaconda/envs/rest-api-demo/lib/python3.11/site-packages/_distutils_hack/__init__.py:18: UserWarning: Distutils was imported before Setuptools, but importing Setuptools also replaces the `distutils` module in `sys.modules`. This may lead to undesirable behaviors or errors. To avoid these issues, avoid using distutils directly, ensure that setuptools is installed in the traditional way (e.g. not an editable install), and/or make sure that setuptools is always imported before distutils.\n",
      "  warnings.warn(\n",
      "/anaconda/envs/rest-api-demo/lib/python3.11/site-packages/_distutils_hack/__init__.py:33: UserWarning: Setuptools is replacing distutils.\n",
      "  warnings.warn(\"Setuptools is replacing distutils.\")\n",
      "Successfully registered model 't5_small_text_summarization'.\n",
      "2023/12/18 08:37:19 INFO mlflow.store.model_registry.abstract_store: Waiting up to 300 seconds for model version to finish creation. Model name: t5_small_text_summarization, version 1\n",
      "Created version '1' of model 't5_small_text_summarization'.\n"
     ]
    }
   ],
   "source": [
    "# with mlflow.start_run() as run:\n",
    "#     run_id = run.info.run_id\n",
    "#     print(f\"started run name: {run.info.run_name}\")\n",
    "#     print(f\"started run id: {run.info.run_id}\")\n",
    "#     # artifact path is the folder structure inside MLFlow server you want to organize the model into, not the local folder\n",
    "#     mlflow.transformers.log_model(transformers_model=loaded_classifier,\n",
    "#                                   artifact_path = \"./models/pretrained/roberta-base-go_emotions\",\n",
    "#                                   registered_model_name = \"roberta-base-go_emotions\") \n",
    "#     mlflow.transformers.log_model(transformers_model=loaded_summarizer,\n",
    "#                                   artifact_path = \"./models/pretrained/t5_small_text_summarization\",\n",
    "#                                   registered_model_name = \"t5_small_text_summarization\")\n",
    "# mlflow.end_run()"
   ]
  },
  {
   "cell_type": "code",
   "execution_count": null,
   "metadata": {},
   "outputs": [],
   "source": []
  },
  {
   "cell_type": "markdown",
   "metadata": {},
   "source": [
    "### 3. Querying and loading registered models"
   ]
  },
  {
   "cell_type": "markdown",
   "metadata": {},
   "source": [
    "As the environment that this notebook is running on is native Azure ML compute, there is no need to specify any credentials to initialize the mflow tracking client"
   ]
  },
  {
   "cell_type": "code",
   "execution_count": 12,
   "metadata": {},
   "outputs": [],
   "source": [
    "client = mlflow.tracking.MlflowClient()"
   ]
  },
  {
   "cell_type": "code",
   "execution_count": 36,
   "metadata": {},
   "outputs": [
    {
     "name": "stdout",
     "output_type": "stream",
     "text": [
      "azureml_AutoML_d9ec2959-d835-4011-ba19-28cc889ade79_0_output_mlflow_log_model_380109068\n",
      "azureml_AutoML_d9ec2959-d835-4011-ba19-28cc889ade79_1_output_mlflow_log_model_380109068\n",
      "azureml_AutoML_d9ec2959-d835-4011-ba19-28cc889ade79_2_output_mlflow_log_model_1072233275\n",
      "azureml_AutoML_d9ec2959-d835-4011-ba19-28cc889ade79_3_output_mlflow_log_model_380109068\n",
      "azureml_AutoML_d9ec2959-d835-4011-ba19-28cc889ade79_4_output_mlflow_log_model_380109068\n",
      "azureml_AutoML_d9ec2959-d835-4011-ba19-28cc889ade79_5_output_mlflow_log_model_1072233275\n",
      "azureml_AutoML_d9ec2959-d835-4011-ba19-28cc889ade79_6_output_mlflow_log_model_1047705112\n",
      "azureml_AutoML_d9ec2959-d835-4011-ba19-28cc889ade79_7_output_mlflow_log_model_417421593\n",
      "azureml_AutoML_d9ec2959-d835-4011-ba19-28cc889ade79_20_output_mlflow_log_model_56851338\n",
      "azureml_AutoML_d9ec2959-d835-4011-ba19-28cc889ade79_21_output_mlflow_log_model_380109068\n",
      "azureml_830f1b23-29de-4bd4-9b94-6ea1e07dd86e_output_mlflow_log_model_1655100396\n",
      "ElasticnetWineModel\n",
      "azureml_a13a595f-33e1-406e-8531-59cb746a5fd5_output_mlflow_log_model_331622715\n",
      "azureml_d1cd78ff-3c25-4524-8bbf-c8127fe4086f_output_mlflow_log_model_720978731\n",
      "azureml_732e32da-7929-4db0-819f-70ba59faf4b1_output_mlflow_log_model_720978731\n",
      "azureml_22ba64d1-a491-495e-86f1-ac50d438143d_output_mlflow_log_model_720978731\n",
      "azureml_9792a23c-8284-4898-ad90-acabaa8cc044_output_mlflow_log_model_1510413200\n",
      "azureml_559b4c17-b18f-497b-b4d5-53c97779bf62_output_mlflow_log_model_43246241\n",
      "azureml_fcea2b7e-edff-4d50-b060-5a278b3e9d06_output_mlflow_log_model_444574268\n",
      "azureml_a10ba06f-a823-4f6b-bff7-f78b50e29ac9_output_mlflow_log_model_212680308\n",
      "azureml_a10ba06f-a823-4f6b-bff7-f78b50e29ac9_output_mlflow_log_model_1333105675\n",
      "azureml_371d5d4d-98bd-4522-8e1a-9d81bae83a8d_output_mlflow_log_model_591414194\n",
      "roberta-base-go_emotions\n",
      "azureml_371d5d4d-98bd-4522-8e1a-9d81bae83a8d_output_mlflow_log_model_1816470950\n",
      "t5_small_text_summarization\n"
     ]
    }
   ],
   "source": [
    "for model in client.search_registered_models():\n",
    "    print(f\"{model.name}\")"
   ]
  },
  {
   "cell_type": "code",
   "execution_count": 55,
   "metadata": {},
   "outputs": [
    {
     "name": "stderr",
     "output_type": "stream",
     "text": [
      "/tmp/ipykernel_51208/4178330736.py:7: FutureWarning: The 'transformers' MLflow Models integration is known to be compatible with the following package version ranges: ``4.25.1`` -  ``4.35.2``. MLflow Models integrations with transformers may not succeed when used with package versions outside of this range.\n",
      "  aml_classifier = mlflow.transformers.load_model('azureml://southeastasia.api.azureml.ms/mlflow/v2.0/subscriptions/b10dba21-0331-4510-a7cb-924077c9cb52/resourceGroups/dev-csdw-rg/providers/Microsoft.MachineLearningServices/workspaces/dev-csdw-ml-workspace/experiments/55795ceb-a274-41f1-a25f-dac4ceb8567f/runs/371d5d4d-98bd-4522-8e1a-9d81bae83a8d/artifacts/models/pretrained/roberta-base-go_emotions',\n",
      "Downloading artifacts:   0%|                                                                                                                                                                                                                                                                                                                                                                                                                                                                                                                                                                                                                                                                                                                                                                                                                                                                                                                                                                                    | 0/11 [00:00<?, ?it/s]2023/12/18 09:29:58 INFO mlflow.store.artifact.artifact_repo: The progress bar can be disabled by setting the environment variable MLFLOW_ENABLE_ARTIFACTS_PROGRESS_BAR to false\n",
      "Downloading artifacts: 100%|███████████████████████████████████████████████████████████████████████████████████████████████████████████████████████████████████████████████████████████████████████████████████████████████████████████████████████████████████████████████████████████████████████████████████████████████████████████████████████████████████████████████████████████████████████████████████████████████████████████████████████████████████████████████████████████████████████████████████████████████████████████████████████████████████████████████████████████████████████████████████████████████████████████████████████████████████████████████████████████████████████████████████████████████████████████████████████████████████████████████████████████████████████████████████████████████████████████████████████████████████████████████████████████████████████████████████████████████████████████████████████████████████████████████████████████████████████████| 11/11 [00:11<00:00,  1.03s/it]\n",
      "Downloading artifacts: 100%|█████████████████████████████████████████████████████████████████████████████████████████████████████████████████████████████████████████████████████████████████████████████████████████████████████████████████████████████████████████████████████████████████████████████████████████████████████████████████████████████████████████████████████████████████████████████████████████████████████████████████████████████████████████████████████████████████████████████████████████████████████████████████████████████████████████████████████████████████████████████████████████████████████████████████████████████████████████████████████████████████████████████████████████████████████████████████████████████████████████████████████████████████████████████████████████████████████████████████████████████████████████████████████████████████████████████████████████████████████████████████████████████████████████████████████████████████████████████| 1/1 [00:00<00:00,  8.14it/s]\n",
      "2023/12/18 09:30:09 WARNING mlflow.transformers: Could not specify device parameter for this pipeline type\n",
      "/tmp/ipykernel_51208/4178330736.py:9: FutureWarning: The 'transformers' MLflow Models integration is known to be compatible with the following package version ranges: ``4.25.1`` -  ``4.35.2``. MLflow Models integrations with transformers may not succeed when used with package versions outside of this range.\n",
      "  aml_summarizer = mlflow.transformers.load_model('azureml://southeastasia.api.azureml.ms/mlflow/v2.0/subscriptions/b10dba21-0331-4510-a7cb-924077c9cb52/resourceGroups/dev-csdw-rg/providers/Microsoft.MachineLearningServices/workspaces/dev-csdw-ml-workspace/experiments/55795ceb-a274-41f1-a25f-dac4ceb8567f/runs/371d5d4d-98bd-4522-8e1a-9d81bae83a8d/artifacts/models/pretrained/t5_small_text_summarization')\n",
      "Downloading artifacts:   0%|                                                                                                                                                                                                                                                                                                                                                                                                                                                                                                                                                                                                                                                                                                                                                                                                                                                                                                                                                                                    | 0/10 [00:00<?, ?it/s]2023/12/18 09:30:10 INFO mlflow.store.artifact.artifact_repo: The progress bar can be disabled by setting the environment variable MLFLOW_ENABLE_ARTIFACTS_PROGRESS_BAR to false\n",
      "Downloading artifacts: 100%|███████████████████████████████████████████████████████████████████████████████████████████████████████████████████████████████████████████████████████████████████████████████████████████████████████████████████████████████████████████████████████████████████████████████████████████████████████████████████████████████████████████████████████████████████████████████████████████████████████████████████████████████████████████████████████████████████████████████████████████████████████████████████████████████████████████████████████████████████████████████████████████████████████████████████████████████████████████████████████████████████████████████████████████████████████████████████████████████████████████████████████████████████████████████████████████████████████████████████████████████████████████████████████████████████████████████████████████████████████████████████████████████████████████████████████████████████████████| 10/10 [00:06<00:00,  1.57it/s]\n",
      "Downloading artifacts: 100%|█████████████████████████████████████████████████████████████████████████████████████████████████████████████████████████████████████████████████████████████████████████████████████████████████████████████████████████████████████████████████████████████████████████████████████████████████████████████████████████████████████████████████████████████████████████████████████████████████████████████████████████████████████████████████████████████████████████████████████████████████████████████████████████████████████████████████████████████████████████████████████████████████████████████████████████████████████████████████████████████████████████████████████████████████████████████████████████████████████████████████████████████████████████████████████████████████████████████████████████████████████████████████████████████████████████████████████████████████████████████████████████████████████████████████████████████████████████████| 1/1 [00:00<00:00,  6.04it/s]\n",
      "2023/12/18 09:30:17 WARNING mlflow.transformers: Could not specify device parameter for this pipeline type\n"
     ]
    }
   ],
   "source": [
    "classifier_name = \"roberta-base-go_emotions\"\n",
    "summarizer_name = \"t5_small_text_summarization\"\n",
    "\n",
    "# aml_classifier = client.get_model_version(classifier_name, version=1)\n",
    "# aml_summarizer = client.get_model_version(summarizer_name, version=1) # if the version is not specified, TypeError is thrown, latest version is not retrieved\n",
    "# uri = client.get_model_version_download_uri(classifier_name, 1)\n",
    "aml_classifier = mlflow.transformers.load_model('azureml://southeastasia.api.azureml.ms/mlflow/v2.0/subscriptions/b10dba21-0331-4510-a7cb-924077c9cb52/resourceGroups/dev-csdw-rg/providers/Microsoft.MachineLearningServices/workspaces/dev-csdw-ml-workspace/experiments/55795ceb-a274-41f1-a25f-dac4ceb8567f/runs/371d5d4d-98bd-4522-8e1a-9d81bae83a8d/artifacts/models/pretrained/roberta-base-go_emotions',\n",
    "                                                top_k=None)\n",
    "aml_summarizer = mlflow.transformers.load_model('azureml://southeastasia.api.azureml.ms/mlflow/v2.0/subscriptions/b10dba21-0331-4510-a7cb-924077c9cb52/resourceGroups/dev-csdw-rg/providers/Microsoft.MachineLearningServices/workspaces/dev-csdw-ml-workspace/experiments/55795ceb-a274-41f1-a25f-dac4ceb8567f/runs/371d5d4d-98bd-4522-8e1a-9d81bae83a8d/artifacts/models/pretrained/t5_small_text_summarization')"
   ]
  },
  {
   "cell_type": "code",
   "execution_count": 16,
   "metadata": {},
   "outputs": [],
   "source": [
    "SAMPLE_ARTICLE = \"\"\" \n",
    "More training for door staff and funding for testing kits are among a package of measures announced to crack down on spiking.\n",
    "The Home Office has said the law will also be \"modernised\" to make it clear spiking - putting alcohol or drugs into another person's drink or body without their consent - is a crime.\n",
    "The plans have broadly been welcomed by campaigners.\n",
    "But they stop short of calls from some to make spiking a specific offence.\n",
    "The measures announced by the government include:\n",
    "Training hundreds more door staff to stop potential perpetrators and signs someone may have been spiked\n",
    "Investing in research into testing kits to detect if someone's drink has been spiked\n",
    "Intensive operations by the National Police Chiefs' Council (NPCC) across England and Wales, targeting key weeks when spiking tends to be prevalent\n",
    "An online tool to be rolled out to all police forces to make it easier for people to report spiking anonymously\n",
    "Home Secretary James Cleverly said: \"Spiking is a perverse crime which can have a lasting impact on victims.\n",
    "\"Our comprehensive new measures are designed to help police and staff in bars, restaurants, pubs and other premises to protect victims and bring more offenders to justice.\"\n",
    "\"\"\""
   ]
  },
  {
   "cell_type": "code",
   "execution_count": 44,
   "metadata": {},
   "outputs": [
    {
     "data": {
      "text/plain": [
       "[{'summary_text': 'The Home Office has said the law will also be \"modernised\" to make it clear spiking is a crime . The plans have broadly been welcomed by campaigners . But they stop short of calls from some to make the crime a specific offence .'}]"
      ]
     },
     "execution_count": 44,
     "metadata": {},
     "output_type": "execute_result"
    }
   ],
   "source": [
    "aml_summary = aml_summarizer(SAMPLE_ARTICLE)\n",
    "aml_summary"
   ]
  },
  {
   "cell_type": "code",
   "execution_count": 56,
   "metadata": {},
   "outputs": [
    {
     "data": {
      "text/plain": [
       "[[{'label': 'approval', 'score': 0.7034388184547424},\n",
       "  {'label': 'neutral', 'score': 0.30123162269592285},\n",
       "  {'label': 'admiration', 'score': 0.041029393672943115},\n",
       "  {'label': 'realization', 'score': 0.0273037850856781},\n",
       "  {'label': 'optimism', 'score': 0.021668855100870132},\n",
       "  {'label': 'disapproval', 'score': 0.01637597382068634},\n",
       "  {'label': 'love', 'score': 0.005554392468184233},\n",
       "  {'label': 'annoyance', 'score': 0.004261727910488844},\n",
       "  {'label': 'joy', 'score': 0.0035044108517467976},\n",
       "  {'label': 'disappointment', 'score': 0.003361587645485997},\n",
       "  {'label': 'gratitude', 'score': 0.003002336947247386},\n",
       "  {'label': 'desire', 'score': 0.002980227814987302},\n",
       "  {'label': 'confusion', 'score': 0.002826269716024399},\n",
       "  {'label': 'relief', 'score': 0.002815544605255127},\n",
       "  {'label': 'caring', 'score': 0.002804043935611844},\n",
       "  {'label': 'excitement', 'score': 0.002140974160283804},\n",
       "  {'label': 'pride', 'score': 0.0020365267992019653},\n",
       "  {'label': 'curiosity', 'score': 0.0009850237984210253},\n",
       "  {'label': 'disgust', 'score': 0.0008100930717773736},\n",
       "  {'label': 'surprise', 'score': 0.0007750922231934965},\n",
       "  {'label': 'sadness', 'score': 0.0006691129528917372},\n",
       "  {'label': 'anger', 'score': 0.0006676025805063546},\n",
       "  {'label': 'amusement', 'score': 0.0004870641860179603},\n",
       "  {'label': 'fear', 'score': 0.00042370741721242666},\n",
       "  {'label': 'remorse', 'score': 0.00039416641811840236},\n",
       "  {'label': 'embarrassment', 'score': 0.00031659353408031166},\n",
       "  {'label': 'nervousness', 'score': 0.00030400839750654995},\n",
       "  {'label': 'grief', 'score': 0.0002417593786958605}]]"
      ]
     },
     "execution_count": 56,
     "metadata": {},
     "output_type": "execute_result"
    }
   ],
   "source": [
    "predictions = aml_classifier.predict(aml_summary[0]['summary_text'])\n",
    "predictions"
   ]
  },
  {
   "cell_type": "code",
   "execution_count": 45,
   "metadata": {},
   "outputs": [
    {
     "data": {
      "text/plain": [
       "'azureml://southeastasia.api.azureml.ms/mlflow/v2.0/subscriptions/b10dba21-0331-4510-a7cb-924077c9cb52/resourceGroups/dev-csdw-rg/providers/Microsoft.MachineLearningServices/workspaces/dev-csdw-ml-workspace/experiments/55795ceb-a274-41f1-a25f-dac4ceb8567f/runs/371d5d4d-98bd-4522-8e1a-9d81bae83a8d/artifacts/./models/pretrained/roberta-base-go_emotions'"
      ]
     },
     "execution_count": 45,
     "metadata": {},
     "output_type": "execute_result"
    }
   ],
   "source": [
    "uri = client.get_model_version_download_uri(classifier_name, 1)\n",
    "uri"
   ]
  },
  {
   "cell_type": "code",
   "execution_count": 60,
   "metadata": {},
   "outputs": [
    {
     "data": {
      "text/plain": [
       "'azureml://southeastasia.api.azureml.ms/mlflow/v1.0/subscriptions/b10dba21-0331-4510-a7cb-924077c9cb52/resourceGroups/dev-csdw-rg/providers/Microsoft.MachineLearningServices/workspaces/dev-csdw-ml-workspace'"
      ]
     },
     "execution_count": 60,
     "metadata": {},
     "output_type": "execute_result"
    }
   ],
   "source": [
    "client._registry_uri"
   ]
  },
  {
   "cell_type": "code",
   "execution_count": 61,
   "metadata": {},
   "outputs": [
    {
     "data": {
      "text/plain": [
       "[<Experiment: artifact_location='', creation_time=1687485405015, experiment_id='280bb9ea-1e8f-433b-93c2-c2c9df44e1e0', last_update_time=None, lifecycle_stage='active', name='Default', tags={}>,\n",
       " <Experiment: artifact_location='', creation_time=1693372122301, experiment_id='69e1afdb-0e0a-44ea-aec2-5de677076160', last_update_time=None, lifecycle_stage='active', name='100_pod_prediction_automl', tags={}>,\n",
       " <Experiment: artifact_location='', creation_time=1693461153794, experiment_id='799e6879-7fcd-4090-8d24-39936371d1d8', last_update_time=None, lifecycle_stage='active', name='all_pod_prediction_automl', tags={}>,\n",
       " <Experiment: artifact_location='', creation_time=1693791579521, experiment_id='798ef9fe-0902-4dc9-a22f-7c3ecb84a296', last_update_time=None, lifecycle_stage='active', name='notebook-runs', tags={}>,\n",
       " <Experiment: artifact_location='', creation_time=1693813436022, experiment_id='60df152c-8e9f-4619-a642-00797a44f6f5', last_update_time=None, lifecycle_stage='active', name='latest_all_pod_prediction', tags={}>,\n",
       " <Experiment: artifact_location='', creation_time=1696253318277, experiment_id='27ab9c40-0f2c-40d4-a919-bf9b945e4605', last_update_time=None, lifecycle_stage='active', name='wine_quality_prediction', tags={}>,\n",
       " <Experiment: artifact_location='', creation_time=1702887141654, experiment_id='8d36d9fa-0bf0-4aad-bfc1-f0ca81ab2cff', last_update_time=None, lifecycle_stage='active', name='hello-world-example', tags={}>,\n",
       " <Experiment: artifact_location='', creation_time=1702887409034, experiment_id='55795ceb-a274-41f1-a25f-dac4ceb8567f', last_update_time=None, lifecycle_stage='active', name='register_pretained_transformer_models', tags={}>]"
      ]
     },
     "execution_count": 61,
     "metadata": {},
     "output_type": "execute_result"
    }
   ],
   "source": [
    "mlflow.search_experiments()"
   ]
  }
 ],
 "metadata": {
  "kernelspec": {
   "display_name": "venv",
   "language": "python",
   "name": "python3"
  },
  "language_info": {
   "codemirror_mode": {
    "name": "ipython",
    "version": 3
   },
   "file_extension": ".py",
   "mimetype": "text/x-python",
   "name": "python",
   "nbconvert_exporter": "python",
   "pygments_lexer": "ipython3",
   "version": "3.11.5"
  },
  "orig_nbformat": 4,
  "vscode": {
   "interpreter": {
    "hash": "b1720018c86e96e6a07c989d677f7924d704f7ab0b697240c08ddcf41e595d89"
   }
  }
 },
 "nbformat": 4,
 "nbformat_minor": 2
}
